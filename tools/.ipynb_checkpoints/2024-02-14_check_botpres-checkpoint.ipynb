{
 "cells": [
  {
   "cell_type": "markdown",
   "id": "e21bffb7-41cc-49b5-bc33-769698bd869f",
   "metadata": {},
   "source": [
    "## 2024-02-12\n",
    "\n",
    "Stephanie Leroux\n",
    "\n",
    "This notebook summarizes my thoughts about Hugo Lecomte's question from his 2024-02-12 email about recovering mass fluctuations from the bottom pressure model output and compare mass fluctuations recoved from the SSH model oputput.\n",
    "\n",
    "---"
   ]
  },
  {
   "cell_type": "markdown",
   "id": "7dc2bf11-4755-4d20-b3a4-1246ab907aae",
   "metadata": {},
   "source": [
    "I'm downloading first a few python packages for later test purposes:"
   ]
  },
  {
   "cell_type": "code",
   "execution_count": 57,
   "id": "c9ce39e1-728d-4984-a36e-a7d3e9f2290c",
   "metadata": {},
   "outputs": [],
   "source": [
    "## standart libraries\n",
    "import os,sys\n",
    "import numpy as np\n",
    "\n",
    "# xarray\n",
    "import xarray as xr\n",
    "\n",
    "# time\n",
    "import datetime\n",
    "import netCDF4\n",
    "import cftime\n",
    "\n",
    "\n",
    "# for jupyter notebook display\n",
    "%matplotlib inline"
   ]
  },
  {
   "cell_type": "markdown",
   "id": "a0f947c6-1075-4a97-bc6d-77b247b5a27a",
   "metadata": {},
   "source": [
    "# 1. Bottom pressure  in the model"
   ]
  },
  {
   "cell_type": "markdown",
   "id": "14edc28a-0186-4a6b-8180-57546231e7d7",
   "metadata": {},
   "source": [
    "* In the model, the density $\\rho$ is described as: $\\rho=\\rho_0(1+rhd)$ where $\\rho_0=1026$ kg.m-3."
   ]
  },
  {
   "cell_type": "markdown",
   "id": "8bf6558b-0698-471d-adfc-638b597aa560",
   "metadata": {},
   "source": [
    "* The bottom pressure $p_b$ at each bottom grid cell is the pressure of the above column of liquid ocean:\n",
    "\n",
    "$p_b=\\int_{-H}^{\\eta(t)}\\rho g dz$\n",
    "\n",
    "where $H$ is the mean thickness of the ocean at rest and $\\eta(t)$ is the heigh of the time-varying free surface above 0, so that the total heigh of the liquid column at time t is $H+\\eta(t)$. $g$ is the gravity, taken as constant in the model: $g$=9.8065 m.s-2"
   ]
  },
  {
   "cell_type": "markdown",
   "id": "8390b403-294b-4a25-9fbf-1e72f0b9ea3a",
   "metadata": {},
   "source": [
    "* From the above, $p_b$ can be expended to: \n",
    "\n",
    "$\n",
    "p_b=\\int_{-H}^{\\eta(t)}\\rho g dz \\\\\n",
    "\\quad= g\\int_{-H}^{\\eta(t)}\\rho_0(1+rhd)\\times dz\\\\\n",
    "\\quad= g\\rho_0(H+\\eta(t))+g\\rho_0\\int_{-H}^{\\eta(t)}rhd\\times dz\n",
    "$"
   ]
  },
  {
   "cell_type": "markdown",
   "id": "b95625d3-89aa-445c-98fc-5a193d90deb4",
   "metadata": {},
   "source": [
    "* Given the vertical discretization used in the model (`vvl` option), the vertical metrics adjust to the time-varying free surface height. The discretized $dz$ (height of each cell) varies in time. In the model it is named $e3_T(t)$. So in the discretized world, the above expression for $p_b$ can express as: "
   ]
  },
  {
   "cell_type": "markdown",
   "id": "1d4bd7f0-284f-417e-8533-9bf8e08ef449",
   "metadata": {},
   "source": [
    "$\n",
    "p_b=g\\rho_0\\biggl(H+\\eta(t)+\\sum_{jpkm1}^{1}rhd(t)\\times e3_T(t)\\biggr)\n",
    "$"
   ]
  },
  {
   "cell_type": "markdown",
   "id": "2c0e3ac4-4910-423f-a831-afdf61c42eca",
   "metadata": {},
   "source": [
    "* It seems to me that the  expression above is consistent with how the variable `botpres` is computed in the model code, in subroutine `diaar5.F90`:"
   ]
  },
  {
   "cell_type": "markdown",
   "id": "d2c20845-5f72-42fa-938d-c8927e26f288",
   "metadata": {},
   "source": [
    "```fortran\n",
    "zbotpres(:,:) = 0._wp                        \n",
    "[...]\n",
    "DO jk = 1, jpkm1\n",
    " zbotpres(:,:) = zbotpres(:,:) + e3t_n(:,:,jk) * rhd(:,:,jk)\n",
    "END DO\n",
    "[...]\n",
    "zztmp = rau0 * grav * 1.e-4_wp                             \n",
    "zbotpres(:,:) = zztmp * ( zbotpres(:,:) + sshn(:,:) + thick0(:,:) )\n",
    "```"
   ]
  },
  {
   "cell_type": "markdown",
   "id": "00387b35-1a4b-4050-8d3d-402e56e24d65",
   "metadata": {},
   "source": [
    "Note: the 1.e-4  factor comes from a conversion to Pa to dbar which is the unit used for `botpres` in the model outputs.\n",
    "\n",
    "---"
   ]
  },
  {
   "cell_type": "markdown",
   "id": "caec8578-9fee-4fed-b855-f30cbb42740c",
   "metadata": {},
   "source": [
    "# 2. From bottom pressure to mass\n",
    "\n",
    "Bottom pressure is a pressure, i.e.  a force by area unit. \n",
    "\n",
    "To convert to mass, you need to multiply $p_b$ by the area of each cell (which gives you the weight) and then divide by $g$ to derive the mass of each ocean column. \n",
    "\n",
    "Then to derive the mass of the entire global liquid ocean ($M_{go}$), you need to sum over all ocean grid cells:"
   ]
  },
  {
   "cell_type": "markdown",
   "id": "0fa62f15-77e3-47fe-8c9f-1a893d2e23ab",
   "metadata": {},
   "source": [
    "$\n",
    "M_{go}=\\dfrac{1}{g}\\sum_{allcells}\\biggl(p_b\\times e1_T.e2_T\\biggr)\n",
    "$"
   ]
  },
  {
   "cell_type": "markdown",
   "id": "a82ccbcc-a904-4bb3-a257-ee19c3c1b200",
   "metadata": {},
   "source": [
    "### 2.1 Sanity check of the bottom pressure variable in the model outputs:"
   ]
  },
  {
   "cell_type": "markdown",
   "id": "4bdeb869-c4f7-4edf-8f5d-767982dc8c6e",
   "metadata": {},
   "source": [
    "* As a quick sanity check, we can compute $M_{go}$ from the model outputs:"
   ]
  },
  {
   "cell_type": "code",
   "execution_count": 65,
   "id": "2b3afffb-f28b-412f-bdb6-dc0e831ec3a5",
   "metadata": {},
   "outputs": [],
   "source": [
    "diri=\"/Users/leroux/Downloads/\"\n",
    "fili=\"mesh_hgr.nc\"\n",
    "filibp=\"TM_1993-2018_OBP_eORCA025.L75-IMHOTEP.GAIc_1d.nc\"\n",
    "\n",
    "# read grid infos\n",
    "datagrid = xr.open_dataset(diri+fili,decode_times=False)\n",
    "\n",
    "# read time-mean bottom pressure\n",
    "obp = xr.open_dataset(diri+filibp,decode_times=False)[\"botpres\"]"
   ]
  },
  {
   "cell_type": "markdown",
   "id": "0fa30cd5-282e-400a-9834-c1e61525b0e0",
   "metadata": {},
   "source": [
    "* Compute area of each model grid cell:"
   ]
  },
  {
   "cell_type": "code",
   "execution_count": 67,
   "id": "f933b191-e854-483c-8b49-2ed72bd8acb2",
   "metadata": {},
   "outputs": [],
   "source": [
    "AC = datagrid.e1t.squeeze()*datagrid.e2t.squeeze()"
   ]
  },
  {
   "cell_type": "markdown",
   "id": "06eb4bd8-b72a-4f1d-be2d-77b31c04ba4b",
   "metadata": {},
   "source": [
    "* Convert pressure to weight by multiplying OBP by the area:"
   ]
  },
  {
   "cell_type": "code",
   "execution_count": 68,
   "id": "4cfda859-fe4f-490a-beee-ac62551d8919",
   "metadata": {},
   "outputs": [],
   "source": [
    "# in Pa then multiplied by surface of each cell:\n",
    "Weight = obp.squeeze()*10000*AC"
   ]
  },
  {
   "cell_type": "markdown",
   "id": "541217ab-8361-4d96-971e-ea96613bdf6e",
   "metadata": {},
   "source": [
    "* Convert Weight to Mass by dividing by g and sum over all cells"
   ]
  },
  {
   "cell_type": "code",
   "execution_count": 69,
   "id": "ec4cdc5b-c353-4e27-a626-14b248761664",
   "metadata": {},
   "outputs": [
    {
     "data": {
      "text/html": [
       "<div><svg style=\"position: absolute; width: 0; height: 0; overflow: hidden\">\n",
       "<defs>\n",
       "<symbol id=\"icon-database\" viewBox=\"0 0 32 32\">\n",
       "<path d=\"M16 0c-8.837 0-16 2.239-16 5v4c0 2.761 7.163 5 16 5s16-2.239 16-5v-4c0-2.761-7.163-5-16-5z\"></path>\n",
       "<path d=\"M16 17c-8.837 0-16-2.239-16-5v6c0 2.761 7.163 5 16 5s16-2.239 16-5v-6c0 2.761-7.163 5-16 5z\"></path>\n",
       "<path d=\"M16 26c-8.837 0-16-2.239-16-5v6c0 2.761 7.163 5 16 5s16-2.239 16-5v-6c0 2.761-7.163 5-16 5z\"></path>\n",
       "</symbol>\n",
       "<symbol id=\"icon-file-text2\" viewBox=\"0 0 32 32\">\n",
       "<path d=\"M28.681 7.159c-0.694-0.947-1.662-2.053-2.724-3.116s-2.169-2.030-3.116-2.724c-1.612-1.182-2.393-1.319-2.841-1.319h-15.5c-1.378 0-2.5 1.121-2.5 2.5v27c0 1.378 1.122 2.5 2.5 2.5h23c1.378 0 2.5-1.122 2.5-2.5v-19.5c0-0.448-0.137-1.23-1.319-2.841zM24.543 5.457c0.959 0.959 1.712 1.825 2.268 2.543h-4.811v-4.811c0.718 0.556 1.584 1.309 2.543 2.268zM28 29.5c0 0.271-0.229 0.5-0.5 0.5h-23c-0.271 0-0.5-0.229-0.5-0.5v-27c0-0.271 0.229-0.5 0.5-0.5 0 0 15.499-0 15.5 0v7c0 0.552 0.448 1 1 1h7v19.5z\"></path>\n",
       "<path d=\"M23 26h-14c-0.552 0-1-0.448-1-1s0.448-1 1-1h14c0.552 0 1 0.448 1 1s-0.448 1-1 1z\"></path>\n",
       "<path d=\"M23 22h-14c-0.552 0-1-0.448-1-1s0.448-1 1-1h14c0.552 0 1 0.448 1 1s-0.448 1-1 1z\"></path>\n",
       "<path d=\"M23 18h-14c-0.552 0-1-0.448-1-1s0.448-1 1-1h14c0.552 0 1 0.448 1 1s-0.448 1-1 1z\"></path>\n",
       "</symbol>\n",
       "</defs>\n",
       "</svg>\n",
       "<style>/* CSS stylesheet for displaying xarray objects in jupyterlab.\n",
       " *\n",
       " */\n",
       "\n",
       ":root {\n",
       "  --xr-font-color0: var(--jp-content-font-color0, rgba(0, 0, 0, 1));\n",
       "  --xr-font-color2: var(--jp-content-font-color2, rgba(0, 0, 0, 0.54));\n",
       "  --xr-font-color3: var(--jp-content-font-color3, rgba(0, 0, 0, 0.38));\n",
       "  --xr-border-color: var(--jp-border-color2, #e0e0e0);\n",
       "  --xr-disabled-color: var(--jp-layout-color3, #bdbdbd);\n",
       "  --xr-background-color: var(--jp-layout-color0, white);\n",
       "  --xr-background-color-row-even: var(--jp-layout-color1, white);\n",
       "  --xr-background-color-row-odd: var(--jp-layout-color2, #eeeeee);\n",
       "}\n",
       "\n",
       "html[theme=dark],\n",
       "body[data-theme=dark],\n",
       "body.vscode-dark {\n",
       "  --xr-font-color0: rgba(255, 255, 255, 1);\n",
       "  --xr-font-color2: rgba(255, 255, 255, 0.54);\n",
       "  --xr-font-color3: rgba(255, 255, 255, 0.38);\n",
       "  --xr-border-color: #1F1F1F;\n",
       "  --xr-disabled-color: #515151;\n",
       "  --xr-background-color: #111111;\n",
       "  --xr-background-color-row-even: #111111;\n",
       "  --xr-background-color-row-odd: #313131;\n",
       "}\n",
       "\n",
       ".xr-wrap {\n",
       "  display: block !important;\n",
       "  min-width: 300px;\n",
       "  max-width: 700px;\n",
       "}\n",
       "\n",
       ".xr-text-repr-fallback {\n",
       "  /* fallback to plain text repr when CSS is not injected (untrusted notebook) */\n",
       "  display: none;\n",
       "}\n",
       "\n",
       ".xr-header {\n",
       "  padding-top: 6px;\n",
       "  padding-bottom: 6px;\n",
       "  margin-bottom: 4px;\n",
       "  border-bottom: solid 1px var(--xr-border-color);\n",
       "}\n",
       "\n",
       ".xr-header > div,\n",
       ".xr-header > ul {\n",
       "  display: inline;\n",
       "  margin-top: 0;\n",
       "  margin-bottom: 0;\n",
       "}\n",
       "\n",
       ".xr-obj-type,\n",
       ".xr-array-name {\n",
       "  margin-left: 2px;\n",
       "  margin-right: 10px;\n",
       "}\n",
       "\n",
       ".xr-obj-type {\n",
       "  color: var(--xr-font-color2);\n",
       "}\n",
       "\n",
       ".xr-sections {\n",
       "  padding-left: 0 !important;\n",
       "  display: grid;\n",
       "  grid-template-columns: 150px auto auto 1fr 20px 20px;\n",
       "}\n",
       "\n",
       ".xr-section-item {\n",
       "  display: contents;\n",
       "}\n",
       "\n",
       ".xr-section-item input {\n",
       "  display: none;\n",
       "}\n",
       "\n",
       ".xr-section-item input + label {\n",
       "  color: var(--xr-disabled-color);\n",
       "}\n",
       "\n",
       ".xr-section-item input:enabled + label {\n",
       "  cursor: pointer;\n",
       "  color: var(--xr-font-color2);\n",
       "}\n",
       "\n",
       ".xr-section-item input:enabled + label:hover {\n",
       "  color: var(--xr-font-color0);\n",
       "}\n",
       "\n",
       ".xr-section-summary {\n",
       "  grid-column: 1;\n",
       "  color: var(--xr-font-color2);\n",
       "  font-weight: 500;\n",
       "}\n",
       "\n",
       ".xr-section-summary > span {\n",
       "  display: inline-block;\n",
       "  padding-left: 0.5em;\n",
       "}\n",
       "\n",
       ".xr-section-summary-in:disabled + label {\n",
       "  color: var(--xr-font-color2);\n",
       "}\n",
       "\n",
       ".xr-section-summary-in + label:before {\n",
       "  display: inline-block;\n",
       "  content: '►';\n",
       "  font-size: 11px;\n",
       "  width: 15px;\n",
       "  text-align: center;\n",
       "}\n",
       "\n",
       ".xr-section-summary-in:disabled + label:before {\n",
       "  color: var(--xr-disabled-color);\n",
       "}\n",
       "\n",
       ".xr-section-summary-in:checked + label:before {\n",
       "  content: '▼';\n",
       "}\n",
       "\n",
       ".xr-section-summary-in:checked + label > span {\n",
       "  display: none;\n",
       "}\n",
       "\n",
       ".xr-section-summary,\n",
       ".xr-section-inline-details {\n",
       "  padding-top: 4px;\n",
       "  padding-bottom: 4px;\n",
       "}\n",
       "\n",
       ".xr-section-inline-details {\n",
       "  grid-column: 2 / -1;\n",
       "}\n",
       "\n",
       ".xr-section-details {\n",
       "  display: none;\n",
       "  grid-column: 1 / -1;\n",
       "  margin-bottom: 5px;\n",
       "}\n",
       "\n",
       ".xr-section-summary-in:checked ~ .xr-section-details {\n",
       "  display: contents;\n",
       "}\n",
       "\n",
       ".xr-array-wrap {\n",
       "  grid-column: 1 / -1;\n",
       "  display: grid;\n",
       "  grid-template-columns: 20px auto;\n",
       "}\n",
       "\n",
       ".xr-array-wrap > label {\n",
       "  grid-column: 1;\n",
       "  vertical-align: top;\n",
       "}\n",
       "\n",
       ".xr-preview {\n",
       "  color: var(--xr-font-color3);\n",
       "}\n",
       "\n",
       ".xr-array-preview,\n",
       ".xr-array-data {\n",
       "  padding: 0 5px !important;\n",
       "  grid-column: 2;\n",
       "}\n",
       "\n",
       ".xr-array-data,\n",
       ".xr-array-in:checked ~ .xr-array-preview {\n",
       "  display: none;\n",
       "}\n",
       "\n",
       ".xr-array-in:checked ~ .xr-array-data,\n",
       ".xr-array-preview {\n",
       "  display: inline-block;\n",
       "}\n",
       "\n",
       ".xr-dim-list {\n",
       "  display: inline-block !important;\n",
       "  list-style: none;\n",
       "  padding: 0 !important;\n",
       "  margin: 0;\n",
       "}\n",
       "\n",
       ".xr-dim-list li {\n",
       "  display: inline-block;\n",
       "  padding: 0;\n",
       "  margin: 0;\n",
       "}\n",
       "\n",
       ".xr-dim-list:before {\n",
       "  content: '(';\n",
       "}\n",
       "\n",
       ".xr-dim-list:after {\n",
       "  content: ')';\n",
       "}\n",
       "\n",
       ".xr-dim-list li:not(:last-child):after {\n",
       "  content: ',';\n",
       "  padding-right: 5px;\n",
       "}\n",
       "\n",
       ".xr-has-index {\n",
       "  font-weight: bold;\n",
       "}\n",
       "\n",
       ".xr-var-list,\n",
       ".xr-var-item {\n",
       "  display: contents;\n",
       "}\n",
       "\n",
       ".xr-var-item > div,\n",
       ".xr-var-item label,\n",
       ".xr-var-item > .xr-var-name span {\n",
       "  background-color: var(--xr-background-color-row-even);\n",
       "  margin-bottom: 0;\n",
       "}\n",
       "\n",
       ".xr-var-item > .xr-var-name:hover span {\n",
       "  padding-right: 5px;\n",
       "}\n",
       "\n",
       ".xr-var-list > li:nth-child(odd) > div,\n",
       ".xr-var-list > li:nth-child(odd) > label,\n",
       ".xr-var-list > li:nth-child(odd) > .xr-var-name span {\n",
       "  background-color: var(--xr-background-color-row-odd);\n",
       "}\n",
       "\n",
       ".xr-var-name {\n",
       "  grid-column: 1;\n",
       "}\n",
       "\n",
       ".xr-var-dims {\n",
       "  grid-column: 2;\n",
       "}\n",
       "\n",
       ".xr-var-dtype {\n",
       "  grid-column: 3;\n",
       "  text-align: right;\n",
       "  color: var(--xr-font-color2);\n",
       "}\n",
       "\n",
       ".xr-var-preview {\n",
       "  grid-column: 4;\n",
       "}\n",
       "\n",
       ".xr-index-preview {\n",
       "  grid-column: 2 / 5;\n",
       "  color: var(--xr-font-color2);\n",
       "}\n",
       "\n",
       ".xr-var-name,\n",
       ".xr-var-dims,\n",
       ".xr-var-dtype,\n",
       ".xr-preview,\n",
       ".xr-attrs dt {\n",
       "  white-space: nowrap;\n",
       "  overflow: hidden;\n",
       "  text-overflow: ellipsis;\n",
       "  padding-right: 10px;\n",
       "}\n",
       "\n",
       ".xr-var-name:hover,\n",
       ".xr-var-dims:hover,\n",
       ".xr-var-dtype:hover,\n",
       ".xr-attrs dt:hover {\n",
       "  overflow: visible;\n",
       "  width: auto;\n",
       "  z-index: 1;\n",
       "}\n",
       "\n",
       ".xr-var-attrs,\n",
       ".xr-var-data,\n",
       ".xr-index-data {\n",
       "  display: none;\n",
       "  background-color: var(--xr-background-color) !important;\n",
       "  padding-bottom: 5px !important;\n",
       "}\n",
       "\n",
       ".xr-var-attrs-in:checked ~ .xr-var-attrs,\n",
       ".xr-var-data-in:checked ~ .xr-var-data,\n",
       ".xr-index-data-in:checked ~ .xr-index-data {\n",
       "  display: block;\n",
       "}\n",
       "\n",
       ".xr-var-data > table {\n",
       "  float: right;\n",
       "}\n",
       "\n",
       ".xr-var-name span,\n",
       ".xr-var-data,\n",
       ".xr-index-name div,\n",
       ".xr-index-data,\n",
       ".xr-attrs {\n",
       "  padding-left: 25px !important;\n",
       "}\n",
       "\n",
       ".xr-attrs,\n",
       ".xr-var-attrs,\n",
       ".xr-var-data,\n",
       ".xr-index-data {\n",
       "  grid-column: 1 / -1;\n",
       "}\n",
       "\n",
       "dl.xr-attrs {\n",
       "  padding: 0;\n",
       "  margin: 0;\n",
       "  display: grid;\n",
       "  grid-template-columns: 125px auto;\n",
       "}\n",
       "\n",
       ".xr-attrs dt,\n",
       ".xr-attrs dd {\n",
       "  padding: 0;\n",
       "  margin: 0;\n",
       "  float: left;\n",
       "  padding-right: 10px;\n",
       "  width: auto;\n",
       "}\n",
       "\n",
       ".xr-attrs dt {\n",
       "  font-weight: normal;\n",
       "  grid-column: 1;\n",
       "}\n",
       "\n",
       ".xr-attrs dt:hover span {\n",
       "  display: inline-block;\n",
       "  background: var(--xr-background-color);\n",
       "  padding-right: 10px;\n",
       "}\n",
       "\n",
       ".xr-attrs dd {\n",
       "  grid-column: 2;\n",
       "  white-space: pre-wrap;\n",
       "  word-break: break-all;\n",
       "}\n",
       "\n",
       ".xr-icon-database,\n",
       ".xr-icon-file-text2,\n",
       ".xr-no-icon {\n",
       "  display: inline-block;\n",
       "  vertical-align: middle;\n",
       "  width: 1em;\n",
       "  height: 1.5em !important;\n",
       "  stroke-width: 0;\n",
       "  stroke: currentColor;\n",
       "  fill: currentColor;\n",
       "}\n",
       "</style><pre class='xr-text-repr-fallback'>&lt;xarray.DataArray ()&gt;\n",
       "array(1.36294809e+21)</pre><div class='xr-wrap' style='display:none'><div class='xr-header'><div class='xr-obj-type'>xarray.DataArray</div><div class='xr-array-name'></div></div><ul class='xr-sections'><li class='xr-section-item'><div class='xr-array-wrap'><input id='section-a5382eb3-5779-4cd2-afd8-6326c4c05051' class='xr-array-in' type='checkbox' checked><label for='section-a5382eb3-5779-4cd2-afd8-6326c4c05051' title='Show/hide data repr'><svg class='icon xr-icon-database'><use xlink:href='#icon-database'></use></svg></label><div class='xr-array-preview xr-preview'><span>1.363e+21</span></div><div class='xr-array-data'><pre>array(1.36294809e+21)</pre></div></div></li><li class='xr-section-item'><input id='section-d700c907-c8d6-4801-ae5b-dea4252a37a5' class='xr-section-summary-in' type='checkbox' disabled ><label for='section-d700c907-c8d6-4801-ae5b-dea4252a37a5' class='xr-section-summary'  title='Expand/collapse section'>Coordinates: <span>(0)</span></label><div class='xr-section-inline-details'></div><div class='xr-section-details'><ul class='xr-var-list'></ul></div></li><li class='xr-section-item'><input id='section-1d0cc3c8-188f-4b76-919e-128be1066a87' class='xr-section-summary-in' type='checkbox' disabled ><label for='section-1d0cc3c8-188f-4b76-919e-128be1066a87' class='xr-section-summary'  title='Expand/collapse section'>Indexes: <span>(0)</span></label><div class='xr-section-inline-details'></div><div class='xr-section-details'><ul class='xr-var-list'></ul></div></li><li class='xr-section-item'><input id='section-08956cd4-86b9-4c28-a925-53af6127ba86' class='xr-section-summary-in' type='checkbox' disabled ><label for='section-08956cd4-86b9-4c28-a925-53af6127ba86' class='xr-section-summary'  title='Expand/collapse section'>Attributes: <span>(0)</span></label><div class='xr-section-inline-details'></div><div class='xr-section-details'><dl class='xr-attrs'></dl></div></li></ul></div></div>"
      ],
      "text/plain": [
       "<xarray.DataArray ()>\n",
       "array(1.36294809e+21)"
      ]
     },
     "execution_count": 69,
     "metadata": {},
     "output_type": "execute_result"
    }
   ],
   "source": [
    "# mass\n",
    "g = 9.8065\n",
    "\n",
    "Mass = (1/g)*Weight.sum()\n",
    "\n",
    "# Mass of the ocean in kg: (should be around 1.4e21 kg\n",
    "Mass"
   ]
  },
  {
   "cell_type": "markdown",
   "id": "54d96db0-5ff7-40cb-8436-6cfdb91e1d2e",
   "metadata": {},
   "source": [
    "--> you get the right kind of number for the averaged mass of the ocean (around 1.4e21 kg from wikipedia)\n",
    "\n",
    "---"
   ]
  },
  {
   "cell_type": "markdown",
   "id": "46b83a92-535d-4036-8012-7bbf38ff2a31",
   "metadata": {},
   "source": [
    "### 2.2 Now expend $M_{go}$ to relate to SSH ($\\eta$)"
   ]
  },
  {
   "cell_type": "markdown",
   "id": "006c67ca-69ad-41fa-9102-b0eef9aaceea",
   "metadata": {},
   "source": [
    "You can expend $M_{go}$ using the expression of $p_b$ above:"
   ]
  },
  {
   "cell_type": "markdown",
   "id": "cda9588e-c13d-466c-9f44-c814a2e91308",
   "metadata": {},
   "source": [
    "$\n",
    "M_{go}=\\dfrac{g\\rho_0 }{g}\\sum_{allcells}\\biggl(H+\\eta(t)\\times e1_T.e2_T\\biggr)  + \\dfrac{g\\rho_0 }{g}\\sum_{allcells}\\Biggl(\\sum_{jpk-1}^{1}\\biggl(rhd\\times e3_T(t)\\biggr) \\times e1_T.e2_T\\Biggr)\n",
    "$"
   ]
  },
  {
   "cell_type": "markdown",
   "id": "a813e0dc-344b-4eb1-afea-8e7cfbbf639b",
   "metadata": {},
   "source": [
    "For visual simplification, let's note $\\biggl<...\\biggl>$ the spatial  average operator over all the ocean grid cells $\\sum_{allcells}\\biggl(...\\biggl) \\times e1_T.e2_T$"
   ]
  },
  {
   "cell_type": "markdown",
   "id": "ab277ee0-b561-4850-9946-161b31f860d2",
   "metadata": {},
   "source": [
    "$\n",
    "M_{go}=\\rho_0 \\biggl<H+\\eta(t)\\biggr>  + \\rho_0 \\Biggl<\\sum_{jpk-1}^{1}\\biggl(rhd(t)\\times e3_T(t)\\biggr) \\Biggr>\n",
    "$"
   ]
  },
  {
   "cell_type": "markdown",
   "id": "1bf4de54-89a5-43e2-9205-838c66093041",
   "metadata": {},
   "source": [
    "### 2.3 Link with Hugo's question"
   ]
  },
  {
   "cell_type": "markdown",
   "id": "836fc17e-6286-4a28-8b80-88fdf46fc69a",
   "metadata": {},
   "source": [
    "Hugo wants to compare the fluctuations in time of the global mass. So let's call those flutuations $M'_{go} = M_{go}-\\overline{M_{go}}$"
   ]
  },
  {
   "cell_type": "markdown",
   "id": "59b1ea97-7b0c-4272-ba0e-f13f8161fce2",
   "metadata": {},
   "source": [
    "Now let's examine which terms can vary in time in the expression of $M_{go}$ above:\n",
    "\n",
    "* the term $\\rho_0\\biggl<H\\biggl>$  is constant with time, so it won't remain in $M_{go}'$.\n",
    "\n",
    "* the term $\\rho_0\\biggl<\\eta(t)\\biggl>$ varies in time because of freshwater fluxes. Recall that in the model, E-P+R+fwfcorr is reset to zero at each time-step, but the sea ice annual cycle is free. This is why, as we know already, the global mean of the SSH $\\biggl<\\eta(t)\\biggl>$ is not exactly zero: its small fluctuations are due to the freezing/melting of sea ice that makes the total mount of liquid water in the model fluctuate in time. Or in other words, the mass of ocean liquid water is not conserved at each time step, since part of it can be temporarily in its solid form.\n",
    "\n",
    "* Now how about the last term in $M_{go}$, that we will call  $\\mathcal{D}=\\rho_0 \\Biggl<\\sum_{jpk-1}^{1}\\biggl(rhd(t)\\times e3_T(t)\\biggr) \\Biggr>$ ?\n",
    "\n",
    "Hugo hypothetised that its time mean $\\overline{\\mathcal{D}}$ is null because the model is Businesq and in average over the globe, the mass fluctuations only come from the external fluxes.\n",
    "\n",
    "**_If_** it is true that $\\overline{\\mathcal{D}}=0$ then the only varying term in  $M_{go}$ is the one with $\\eta(t)$, so:\n",
    "\n",
    "$M'_{go}=\\rho_0\\biggl<\\eta(t)\\biggl>$. \n",
    "\n",
    "In that case, we should indeed get $M'_{go}$ computed from the OBP model outputs equals  $\\rho_0\\biggl<\\eta(t)\\biggl>'$ computed from the model output SSH (the prime denotes that the time mean was removed). In other words, Hugo's blue curve and orange curve should be superposed.\n",
    "\n",
    "BUT - we find that it is not exactly the case: we get a residual that looks like a seasonal cycle. Why?"
   ]
  },
  {
   "cell_type": "markdown",
   "id": "4442274b-22b9-47f1-b9cd-a229903bed2a",
   "metadata": {},
   "source": [
    "### 2.4 My understanding so far..."
   ]
  },
  {
   "cell_type": "markdown",
   "id": "58f89234-88e0-47ee-aee9-1a9eb8e92777",
   "metadata": {},
   "source": [
    "If the blue and orange curves are not stricly superposed, it must mean that our hypothetis $\\overline{\\mathcal{D}}=0$ is not exactly true. Why?\n",
    "\n",
    "My guess is that it is true only in average over 1 year, but not at the daily frequency. The fact that the bottom pressure is computed from the liquid ocean only might be the explanation. Between winter and summer, we might have not only small variations in the amount of liquid water (due to freezing/melting ice, and asymetry between the 2 hemispheres) but also, as a consequence, small variations in the relative density, which impact the global mean term $\\mathcal{D}=\\rho_0 \\Biggl<\\sum_{jpk-1}^{1}\\biggl(rhd(t)\\times e3_T(t)\\biggr) \\Biggr>$. And again, there is also  $e3T(t)$ that fluctuates.\n",
    "\n",
    "At this stage i am not sure how we could verify this (that $\\overline{\\mathcal{D}}$ is not strictly zero$), but it seems to me that it must be the explanation why we get this little difference between the orange and blue curves.\n",
    "\n",
    "We could try to recompute the $\\overline{\\mathcal{D}}$ term from the T and S 3-D model fields maybe, if necessary...\n",
    "\n",
    "\n"
   ]
  },
  {
   "cell_type": "code",
   "execution_count": null,
   "id": "72e179fb-77dc-4bc2-bfa6-444a98359e26",
   "metadata": {},
   "outputs": [],
   "source": []
  }
 ],
 "metadata": {
  "kernelspec": {
   "display_name": "Python 3 (ipykernel)",
   "language": "python",
   "name": "python3"
  },
  "language_info": {
   "codemirror_mode": {
    "name": "ipython",
    "version": 3
   },
   "file_extension": ".py",
   "mimetype": "text/x-python",
   "name": "python",
   "nbconvert_exporter": "python",
   "pygments_lexer": "ipython3",
   "version": "3.11.3"
  }
 },
 "nbformat": 4,
 "nbformat_minor": 5
}
